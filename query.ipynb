{
 "cells": [
  {
   "cell_type": "code",
   "execution_count": 1,
   "metadata": {},
   "outputs": [],
   "source": [
    "from IPython.core.interactiveshell import InteractiveShell\n",
    "InteractiveShell.ast_node_interactivity = 'all'\n",
    "import joblib\n",
    "import re\n",
    "from PIL import Image\n",
    "# import dlib\n",
    "import matplotlib.pyplot as plt\n",
    "import os\n",
    "import numpy as np\n",
    "import pandas as pd\n",
    "import tensorflow as tf\n",
    "from tensorflow.python.client import device_lib\n",
    "import sklearn\n",
    "from sklearn.model_selection import train_test_split\n",
    "from scipy.stats import reciprocal\n",
    "from sklearn.model_selection import RandomizedSearchCV\n",
    "import random"
   ]
  },
  {
   "cell_type": "code",
   "execution_count": 226,
   "metadata": {},
   "outputs": [],
   "source": [
    "os.chdir(\"D:/Down/inha_data (2)/inha_data\")"
   ]
  },
  {
   "cell_type": "code",
   "execution_count": 2,
   "metadata": {},
   "outputs": [
    {
     "name": "stdout",
     "output_type": "stream",
     "text": [
      "WARNING:tensorflow:No training configuration found in the save file, so the model was *not* compiled. Compile it manually.\n"
     ]
    }
   ],
   "source": [
    "model = tf.keras.models.load_model('D:/Down/facenet/model/facenet_keras.h5')"
   ]
  },
  {
   "cell_type": "code",
   "execution_count": 28,
   "metadata": {},
   "outputs": [],
   "source": [
    "def getArr(img):    \n",
    "    image = Image.open(img).resize((160,160))\n",
    "    image = image.convert('RGB')\n",
    "    pixels = np.asarray(image, dtype = 'float32')\n",
    "    return pixels"
   ]
  },
  {
   "cell_type": "code",
   "execution_count": 55,
   "metadata": {},
   "outputs": [],
   "source": [
    "test_left = os.listdir('test')[:6000]\n",
    "test_right = os.listdir('test')[6000:]\n",
    "\n",
    "p = re.compile(\"([0-9])\")\n",
    "tidx_left = list(map(lambda x: int(\"\".join(p.findall(x))), test_left))\n",
    "tidx_left = sorted(range(len(tidx_left)), key = lambda x :tidx_left[x])\n",
    "test_left = [test_left[i] for i in tidx_left]\n",
    "\n",
    "tidx_right = list(map(lambda x: int(\"\".join(p.findall(x))), test_right))\n",
    "tidx_right = sorted(range(len(tidx_right)), key = lambda x :tidx_right[x])\n",
    "test_right = [test_right[i] for i in tidx_right]\n",
    "\n",
    "testdat = pd.DataFrame({'left' : test_left,\n",
    "                      'right' : test_right})\n",
    "\n",
    "testdat.left = 'test/' + testdat.left\n",
    "testdat.right = 'test/' + testdat.right\n",
    "\n",
    "embtest = joblib.load('C:/Users/pc/OneDrive/문서/카카오톡 받은 파일/dataset_test.pkl')\n",
    "idx1 = [False  if i in embtest['idx'] else True for i in testdat.index]\n",
    "\n",
    "noface = testdat.loc[idx1,:].reset_index(drop=True)\n",
    "\n",
    "no_test_left = []\n",
    "for i in range(noface.shape[0]):\n",
    "    temp = getArr(noface.iloc[i,0])\n",
    "    no_test_left.append(temp)\n",
    "    \n",
    "no_test_left =np.array(no_test_left)\n",
    "\n",
    "no_test_right = []\n",
    "for i in range(noface.shape[0]):\n",
    "    temp = getArr(noface.iloc[i,1])\n",
    "    no_test_right.append(temp)\n",
    "    \n",
    "no_test_right =np.array(no_test_right)"
   ]
  },
  {
   "cell_type": "code",
   "execution_count": 80,
   "metadata": {},
   "outputs": [],
   "source": [
    "def get_embedding(model, face_pixels):\n",
    "    face_pixels = face_pixels.astype('int32')\n",
    "    mean, std = face_pixels.mean(), face_pixels.std()\n",
    "    face_pixels = (face_pixels - mean) / std\n",
    "    samples = np.expand_dims(face_pixels, axis=0)\n",
    "    yhat = model.predict(samples)\n",
    "    return yhat[0]"
   ]
  },
  {
   "cell_type": "code",
   "execution_count": 116,
   "metadata": {},
   "outputs": [
    {
     "data": {
      "text/plain": [
       "(89, 160, 160, 3)"
      ]
     },
     "execution_count": 116,
     "metadata": {},
     "output_type": "execute_result"
    }
   ],
   "source": [
    "no_test_left.shape"
   ]
  },
  {
   "cell_type": "code",
   "execution_count": 125,
   "metadata": {},
   "outputs": [],
   "source": [
    "left_emb = []\n",
    "right_emb = []\n",
    "for i in range(no_test_left.shape[0]):\n",
    "    \n",
    "    left_emb.insert(i, get_embedding(model, no_test_left[i]))\n",
    "    right_emb.insert(i, get_embedding(model, no_test_right[i]))\n",
    "\n"
   ]
  },
  {
   "cell_type": "code",
   "execution_count": 149,
   "metadata": {},
   "outputs": [],
   "source": [
    "diff = [left_emb[i] - right_emb[i] for i in range(len(left_emb))]\n",
    "\n",
    "cos_sim = [(np.dot(left_emb[i], right_emb[i]))/(np.linalg.norm(left_emb[i])*np.linalg.norm(right_emb[i])) for i in range(len(left_emb))]\n",
    "\n",
    "l1 = [np.linalg.norm(left_emb[i] - right_emb[i], ord =1) for i in range(len(left_emb))]\n",
    "\n",
    "l2 = [np.linalg.norm(left_emb[i] - right_emb[i], ord =2) for i in range(len(left_emb))]\n",
    "\n",
    "l_inf = [np.linalg.norm(left_emb[i] - right_emb[i], ord =np.inf) for i in range(len(left_emb))]"
   ]
  },
  {
   "cell_type": "code",
   "execution_count": 182,
   "metadata": {},
   "outputs": [],
   "source": [
    "facenet_emb = np.array([np.hstack((cos_sim[i], diff[i], l1[i], l2[i], l_inf[i])) for i in range(len(diff))])"
   ]
  },
  {
   "cell_type": "code",
   "execution_count": 187,
   "metadata": {},
   "outputs": [],
   "source": [
    "t1 = np.hstack([0,range(2,130),258,260,262])\n",
    "\n",
    "t2 = np.hstack([1,range(130,258), 259,261,263])"
   ]
  },
  {
   "cell_type": "code",
   "execution_count": 223,
   "metadata": {},
   "outputs": [],
   "source": [
    "no_idx = (np.arange(testdat.shape[0])[idx1]).tolist()"
   ]
  },
  {
   "cell_type": "code",
   "execution_count": 217,
   "metadata": {},
   "outputs": [],
   "source": [
    "testdat2 = embtest['data']\n",
    "testdat2_1 = testdat2[:, t1]\n",
    "testdat2_2 = testdat2[:, t2]\n",
    "\n",
    "fulltest_1 = pd.DataFrame(np.vstack((testdat2_1, facenet_emb)))\n",
    "fulltest_2 = pd.DataFrame(np.vstack((testdat2_2, facenet_emb)))\n",
    "\n",
    "fulltest_1['sortidx'] = np.array(embtest['idx'].tolist()+no_idx)\n",
    "fulltest_2['sortidx'] = np.array(embtest['idx'].tolist()+no_idx)\n",
    "\n",
    "fulltest_1 = fulltest_1.sort_values('sortidx', ascending=True).reset_index(drop=True).drop('sortidx', axis =1)\n",
    "fulltest_2 = fulltest_2.sort_values('sortidx', ascending=True).reset_index(drop=True).drop('sortidx', axis =1)"
   ]
  },
  {
   "cell_type": "code",
   "execution_count": 225,
   "metadata": {},
   "outputs": [
    {
     "data": {
      "text/plain": [
       "['fulltest_1.pkl']"
      ]
     },
     "execution_count": 225,
     "metadata": {},
     "output_type": "execute_result"
    },
    {
     "data": {
      "text/plain": [
       "['fulltest_2.pkl']"
      ]
     },
     "execution_count": 225,
     "metadata": {},
     "output_type": "execute_result"
    }
   ],
   "source": [
    "joblib.dump(fulltest_1,'fulltest_1.pkl')\n",
    "joblib.dump(fulltest_2,'fulltest_2.pkl')"
   ]
  },
  {
   "cell_type": "code",
   "execution_count": null,
   "metadata": {},
   "outputs": [],
   "source": []
  }
 ],
 "metadata": {
  "kernelspec": {
   "display_name": "tensorflow2_2",
   "language": "python",
   "name": "tensorflow2_2"
  },
  "language_info": {
   "codemirror_mode": {
    "name": "ipython",
    "version": 3
   },
   "file_extension": ".py",
   "mimetype": "text/x-python",
   "name": "python",
   "nbconvert_exporter": "python",
   "pygments_lexer": "ipython3",
   "version": "3.7.4"
  }
 },
 "nbformat": 4,
 "nbformat_minor": 4
}
