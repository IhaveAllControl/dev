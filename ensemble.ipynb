{
 "cells": [
  {
   "cell_type": "code",
   "execution_count": 1,
   "id": "6dbd111b",
   "metadata": {},
   "outputs": [],
   "source": [
    "from IPython.core.interactiveshell import InteractiveShell\n",
    "InteractiveShell.ast_node_interactivity = 'all'\n",
    "import joblib\n",
    "import re\n",
    "from PIL import Image\n",
    "# import dlib\n",
    "import matplotlib.pyplot as plt\n",
    "import os\n",
    "import numpy as np\n",
    "import pandas as pd\n",
    "import tensorflow as tf\n",
    "from tensorflow.python.client import device_lib\n",
    "import sklearn\n",
    "from sklearn.model_selection import train_test_split\n",
    "from scipy.stats import reciprocal\n",
    "from sklearn.model_selection import RandomizedSearchCV, GridSearchCV\n",
    "from sklearn.ensemble import RandomForestClassifier, StackingClassifier\n",
    "from sklearn.linear_model import Lasso,LogisticRegression\n",
    "from sklearn.svm import SVC\n",
    "from sklearn.pipeline import Pipeline"
   ]
  },
  {
   "cell_type": "code",
   "execution_count": 4,
   "id": "7103e65b",
   "metadata": {},
   "outputs": [],
   "source": [
    "dataset= joblib.load(\"D:/Down/dataset_big3.pkl\")"
   ]
  },
  {
   "cell_type": "code",
   "execution_count": 3,
   "id": "908911d9",
   "metadata": {},
   "outputs": [],
   "source": [
    "path = \"D:/Down/inha_data (2)/inha_data\"\n",
    "os.chdir(path)"
   ]
  },
  {
   "cell_type": "code",
   "execution_count": 12,
   "id": "2cab9939",
   "metadata": {},
   "outputs": [],
   "source": [
    "keras_reg64 = tf.saved_model.load(\"keras_reg\")"
   ]
  },
  {
   "cell_type": "code",
   "execution_count": 22,
   "id": "b9b0006d",
   "metadata": {},
   "outputs": [
    {
     "data": {
      "text/plain": [
       "<tensorflow.python.keras.optimizer_v2.optimizer_v2.RestoredOptimizer at 0x164b1bb91c8>"
      ]
     },
     "execution_count": 22,
     "metadata": {},
     "output_type": "execute_result"
    }
   ],
   "source": []
  },
  {
   "cell_type": "code",
   "execution_count": 6,
   "id": "abf8475d",
   "metadata": {},
   "outputs": [],
   "source": [
    "y = dataset['label']\n",
    "X = pd.DataFrame(dataset['data'])\n",
    "X_train_val, X_test, y_train_val, y_test = train_test_split(X, y, test_size =.3, random_state = 0)\n",
    "X_train, X_val, y_train, y_val = train_test_split(X_train_val, y_train_val, test_size=.3, random_state=0)"
   ]
  },
  {
   "cell_type": "code",
   "execution_count": 23,
   "id": "6477b6b0",
   "metadata": {},
   "outputs": [
    {
     "data": {
      "text/plain": [
       "dict_keys(['explained_variance', 'r2', 'max_error', 'neg_median_absolute_error', 'neg_mean_absolute_error', 'neg_mean_absolute_percentage_error', 'neg_mean_squared_error', 'neg_mean_squared_log_error', 'neg_root_mean_squared_error', 'neg_mean_poisson_deviance', 'neg_mean_gamma_deviance', 'accuracy', 'top_k_accuracy', 'roc_auc', 'roc_auc_ovr', 'roc_auc_ovo', 'roc_auc_ovr_weighted', 'roc_auc_ovo_weighted', 'balanced_accuracy', 'average_precision', 'neg_log_loss', 'neg_brier_score', 'adjusted_rand_score', 'rand_score', 'homogeneity_score', 'completeness_score', 'v_measure_score', 'mutual_info_score', 'adjusted_mutual_info_score', 'normalized_mutual_info_score', 'fowlkes_mallows_score', 'precision', 'precision_macro', 'precision_micro', 'precision_samples', 'precision_weighted', 'recall', 'recall_macro', 'recall_micro', 'recall_samples', 'recall_weighted', 'f1', 'f1_macro', 'f1_micro', 'f1_samples', 'f1_weighted', 'jaccard', 'jaccard_macro', 'jaccard_micro', 'jaccard_samples', 'jaccard_weighted'])"
      ]
     },
     "execution_count": 23,
     "metadata": {},
     "output_type": "execute_result"
    }
   ],
   "source": [
    "# sklearn.metrics.SCORERS.keys()"
   ]
  },
  {
   "cell_type": "code",
   "execution_count": 10,
   "id": "be7a2521",
   "metadata": {},
   "outputs": [
    {
     "data": {
      "text/plain": [
       "array([[1., 0.],\n",
       "       [0., 1.],\n",
       "       [0., 1.],\n",
       "       ...,\n",
       "       [0., 1.],\n",
       "       [1., 0.],\n",
       "       [1., 0.]], dtype=float32)"
      ]
     },
     "execution_count": 10,
     "metadata": {},
     "output_type": "execute_result"
    }
   ],
   "source": []
  },
  {
   "cell_type": "code",
   "execution_count": 22,
   "id": "93cf3f62",
   "metadata": {},
   "outputs": [],
   "source": [
    "# C=1, 5, 10, 50, 100\n",
    "lg_clf = LogisticRegression()"
   ]
  },
  {
   "cell_type": "code",
   "execution_count": 26,
   "id": "dc6ae06f",
   "metadata": {},
   "outputs": [
    {
     "name": "stderr",
     "output_type": "stream",
     "text": [
      "C:\\Users\\pc\\Anaconda3\\envs\\tensorflow2_2\\lib\\site-packages\\sklearn\\model_selection\\_search.py:289: UserWarning: The total space of parameters 4 is smaller than n_iter=10. Running 4 iterations. For exhaustive searches, use GridSearchCV.\n",
      "  % (grid_size, self.n_iter, grid_size), UserWarning)\n"
     ]
    },
    {
     "name": "stdout",
     "output_type": "stream",
     "text": [
      "Fitting 5 folds for each of 4 candidates, totalling 20 fits\n"
     ]
    },
    {
     "name": "stderr",
     "output_type": "stream",
     "text": [
      "C:\\Users\\pc\\Anaconda3\\envs\\tensorflow2_2\\lib\\site-packages\\sklearn\\linear_model\\_logistic.py:765: ConvergenceWarning: lbfgs failed to converge (status=1):\n",
      "STOP: TOTAL NO. of ITERATIONS REACHED LIMIT.\n",
      "\n",
      "Increase the number of iterations (max_iter) or scale the data as shown in:\n",
      "    https://scikit-learn.org/stable/modules/preprocessing.html\n",
      "Please also refer to the documentation for alternative solver options:\n",
      "    https://scikit-learn.org/stable/modules/linear_model.html#logistic-regression\n",
      "  extra_warning_msg=_LOGISTIC_SOLVER_CONVERGENCE_MSG)\n"
     ]
    },
    {
     "data": {
      "text/plain": [
       "RandomizedSearchCV(cv=5, estimator=LogisticRegression(C=100), n_jobs=-1,\n",
       "                   param_distributions=[{'C': [1, 10, 50, 100]}], verbose=100)"
      ]
     },
     "execution_count": 26,
     "metadata": {},
     "output_type": "execute_result"
    }
   ],
   "source": [
    "lg_param = [\n",
    "    {\n",
    "        'C' : [1, 10, 50, 100]\n",
    "    }\n",
    "]\n",
    "lg_grid = RandomizedSearchCV(lg_clf, lg_param, n_iter=10, cv =5, verbose =100, n_jobs = -1)\n",
    "lg_grid.fit(X_train, y_train)"
   ]
  },
  {
   "cell_type": "code",
   "execution_count": 29,
   "id": "e1ccb8fc",
   "metadata": {},
   "outputs": [
    {
     "data": {
      "text/plain": [
       "0.9906537"
      ]
     },
     "execution_count": 29,
     "metadata": {},
     "output_type": "execute_result"
    }
   ],
   "source": [
    "yp = lg_grid.predict_proba(X_val)[:,1]\n",
    "m = tf.keras.metrics.AUC()\n",
    "m.update_state(y_val, yp)\n",
    "m.result().numpy()"
   ]
  },
  {
   "cell_type": "code",
   "execution_count": 57,
   "id": "668672ab",
   "metadata": {},
   "outputs": [],
   "source": [
    "a =keras_reg(X_val.loc[:,:].values)"
   ]
  },
  {
   "cell_type": "code",
   "execution_count": 62,
   "id": "4fbb2742",
   "metadata": {},
   "outputs": [
    {
     "data": {
      "text/plain": [
       "(364869,)"
      ]
     },
     "execution_count": 62,
     "metadata": {},
     "output_type": "execute_result"
    }
   ],
   "source": [
    "a.numpy().reshape((-1,))"
   ]
  },
  {
   "cell_type": "code",
   "execution_count": 63,
   "id": "98b2ee3e",
   "metadata": {},
   "outputs": [],
   "source": [
    "estimators = [lg_clf, keras_reg]\n",
    "\n",
    "X_val_predictions = np.empty((len(X_val), len(estimators)), dtype=np.float32)\n",
    "X_val_predictions[:,0] = estimators[0].predict_proba(X_val)[:,1]\n",
    "X_val_predictions[:,1] = estimators[1](X_val.values).numpy().reshape((-1,))\n"
   ]
  },
  {
   "cell_type": "code",
   "execution_count": 77,
   "id": "aad758d2",
   "metadata": {},
   "outputs": [],
   "source": [
    "rnd_forest_blender = RandomForestClassifier( oob_score=True,  max_features='sqrt')\n",
    "\n",
    "rnd_param = [\n",
    "    {\n",
    "        \"n_estimators\" : [100,300, 500],\n",
    "        \"max_depth\" : [5,10]\n",
    "    }\n",
    "    \n",
    "]\n",
    "rnd_grid = RandomizedSearchCV(rnd_forest_blender, rnd_param, n_iter=10, cv=5, verbose =100)"
   ]
  },
  {
   "cell_type": "code",
   "execution_count": 78,
   "id": "d45117fb",
   "metadata": {},
   "outputs": [
    {
     "name": "stderr",
     "output_type": "stream",
     "text": [
      "C:\\Users\\pc\\Anaconda3\\envs\\tensorflow2_2\\lib\\site-packages\\sklearn\\model_selection\\_search.py:289: UserWarning: The total space of parameters 6 is smaller than n_iter=10. Running 6 iterations. For exhaustive searches, use GridSearchCV.\n",
      "  % (grid_size, self.n_iter, grid_size), UserWarning)\n"
     ]
    },
    {
     "name": "stdout",
     "output_type": "stream",
     "text": [
      "Fitting 5 folds for each of 6 candidates, totalling 30 fits\n",
      "[CV 1/5; 1/6] START max_depth=5, n_estimators=100...............................\n",
      "[CV 1/5; 1/6] END max_depth=5, n_estimators=100;, score=0.960 total time=  16.7s\n",
      "[CV 2/5; 1/6] START max_depth=5, n_estimators=100...............................\n",
      "[CV 2/5; 1/6] END max_depth=5, n_estimators=100;, score=0.961 total time=  16.8s\n",
      "[CV 3/5; 1/6] START max_depth=5, n_estimators=100...............................\n",
      "[CV 3/5; 1/6] END max_depth=5, n_estimators=100;, score=0.962 total time=  16.9s\n",
      "[CV 4/5; 1/6] START max_depth=5, n_estimators=100...............................\n",
      "[CV 4/5; 1/6] END max_depth=5, n_estimators=100;, score=0.961 total time=  16.8s\n",
      "[CV 5/5; 1/6] START max_depth=5, n_estimators=100...............................\n",
      "[CV 5/5; 1/6] END max_depth=5, n_estimators=100;, score=0.961 total time=  16.9s\n",
      "[CV 1/5; 2/6] START max_depth=5, n_estimators=300...............................\n",
      "[CV 1/5; 2/6] END max_depth=5, n_estimators=300;, score=0.960 total time=  50.0s\n",
      "[CV 2/5; 2/6] START max_depth=5, n_estimators=300...............................\n",
      "[CV 2/5; 2/6] END max_depth=5, n_estimators=300;, score=0.961 total time=  50.0s\n",
      "[CV 3/5; 2/6] START max_depth=5, n_estimators=300...............................\n",
      "[CV 3/5; 2/6] END max_depth=5, n_estimators=300;, score=0.962 total time=  50.4s\n",
      "[CV 4/5; 2/6] START max_depth=5, n_estimators=300...............................\n",
      "[CV 4/5; 2/6] END max_depth=5, n_estimators=300;, score=0.961 total time=  49.9s\n",
      "[CV 5/5; 2/6] START max_depth=5, n_estimators=300...............................\n",
      "[CV 5/5; 2/6] END max_depth=5, n_estimators=300;, score=0.961 total time=  50.0s\n",
      "[CV 1/5; 3/6] START max_depth=5, n_estimators=500...............................\n",
      "[CV 1/5; 3/6] END max_depth=5, n_estimators=500;, score=0.960 total time= 1.4min\n",
      "[CV 2/5; 3/6] START max_depth=5, n_estimators=500...............................\n",
      "[CV 2/5; 3/6] END max_depth=5, n_estimators=500;, score=0.961 total time= 1.4min\n",
      "[CV 3/5; 3/6] START max_depth=5, n_estimators=500...............................\n",
      "[CV 3/5; 3/6] END max_depth=5, n_estimators=500;, score=0.962 total time= 1.4min\n",
      "[CV 4/5; 3/6] START max_depth=5, n_estimators=500...............................\n",
      "[CV 4/5; 3/6] END max_depth=5, n_estimators=500;, score=0.961 total time= 1.4min\n",
      "[CV 5/5; 3/6] START max_depth=5, n_estimators=500...............................\n",
      "[CV 5/5; 3/6] END max_depth=5, n_estimators=500;, score=0.961 total time= 1.4min\n",
      "[CV 1/5; 4/6] START max_depth=10, n_estimators=100..............................\n",
      "[CV 1/5; 4/6] END max_depth=10, n_estimators=100;, score=0.960 total time=  27.2s\n",
      "[CV 2/5; 4/6] START max_depth=10, n_estimators=100..............................\n",
      "[CV 2/5; 4/6] END max_depth=10, n_estimators=100;, score=0.961 total time=  26.9s\n",
      "[CV 3/5; 4/6] START max_depth=10, n_estimators=100..............................\n",
      "[CV 3/5; 4/6] END max_depth=10, n_estimators=100;, score=0.961 total time=  27.0s\n",
      "[CV 4/5; 4/6] START max_depth=10, n_estimators=100..............................\n",
      "[CV 4/5; 4/6] END max_depth=10, n_estimators=100;, score=0.961 total time=  27.8s\n",
      "[CV 5/5; 4/6] START max_depth=10, n_estimators=100..............................\n",
      "[CV 5/5; 4/6] END max_depth=10, n_estimators=100;, score=0.961 total time=  27.6s\n",
      "[CV 1/5; 5/6] START max_depth=10, n_estimators=300..............................\n",
      "[CV 1/5; 5/6] END max_depth=10, n_estimators=300;, score=0.960 total time= 1.4min\n",
      "[CV 2/5; 5/6] START max_depth=10, n_estimators=300..............................\n",
      "[CV 2/5; 5/6] END max_depth=10, n_estimators=300;, score=0.961 total time= 1.3min\n",
      "[CV 3/5; 5/6] START max_depth=10, n_estimators=300..............................\n",
      "[CV 3/5; 5/6] END max_depth=10, n_estimators=300;, score=0.961 total time= 1.3min\n",
      "[CV 4/5; 5/6] START max_depth=10, n_estimators=300..............................\n",
      "[CV 4/5; 5/6] END max_depth=10, n_estimators=300;, score=0.961 total time= 1.3min\n",
      "[CV 5/5; 5/6] START max_depth=10, n_estimators=300..............................\n",
      "[CV 5/5; 5/6] END max_depth=10, n_estimators=300;, score=0.961 total time= 1.4min\n",
      "[CV 1/5; 6/6] START max_depth=10, n_estimators=500..............................\n",
      "[CV 1/5; 6/6] END max_depth=10, n_estimators=500;, score=0.960 total time= 2.2min\n",
      "[CV 2/5; 6/6] START max_depth=10, n_estimators=500..............................\n",
      "[CV 2/5; 6/6] END max_depth=10, n_estimators=500;, score=0.961 total time= 2.2min\n",
      "[CV 3/5; 6/6] START max_depth=10, n_estimators=500..............................\n",
      "[CV 3/5; 6/6] END max_depth=10, n_estimators=500;, score=0.961 total time= 2.2min\n",
      "[CV 4/5; 6/6] START max_depth=10, n_estimators=500..............................\n",
      "[CV 4/5; 6/6] END max_depth=10, n_estimators=500;, score=0.961 total time= 2.2min\n",
      "[CV 5/5; 6/6] START max_depth=10, n_estimators=500..............................\n",
      "[CV 5/5; 6/6] END max_depth=10, n_estimators=500;, score=0.961 total time= 2.2min\n"
     ]
    },
    {
     "data": {
      "text/plain": [
       "RandomizedSearchCV(cv=5,\n",
       "                   estimator=RandomForestClassifier(max_features='sqrt',\n",
       "                                                    n_estimators=200,\n",
       "                                                    oob_score=True,\n",
       "                                                    random_state=42),\n",
       "                   param_distributions=[{'max_depth': [5, 10],\n",
       "                                         'n_estimators': [100, 300, 500]}],\n",
       "                   verbose=100)"
      ]
     },
     "execution_count": 78,
     "metadata": {},
     "output_type": "execute_result"
    }
   ],
   "source": [
    "rnd_grid.fit(X_val_predictions, y_val)\n",
    "# rnd_forest_blender.fit(X_val_predictions, y_val)\n"
   ]
  },
  {
   "cell_type": "code",
   "execution_count": 79,
   "id": "6bff2eb8",
   "metadata": {},
   "outputs": [
    {
     "data": {
      "text/plain": [
       "{'n_estimators': 100, 'max_depth': 5}"
      ]
     },
     "execution_count": 79,
     "metadata": {},
     "output_type": "execute_result"
    }
   ],
   "source": [
    "rnd_grid.best_params_"
   ]
  },
  {
   "cell_type": "code",
   "execution_count": 70,
   "id": "5dc1ab0c",
   "metadata": {},
   "outputs": [],
   "source": [
    "X_test_predictions = np.empty((len(X_test), len(estimators)))\n",
    "X_test_predictions[:,0] = estimators[0].predict_proba(X_test)[:,1]\n",
    "X_test_predictions[:,1] = estimators[1](X_test.values).numpy().reshape((-1,))"
   ]
  },
  {
   "cell_type": "code",
   "execution_count": 80,
   "id": "193c4c7b",
   "metadata": {},
   "outputs": [
    {
     "data": {
      "text/plain": [
       "0.9615404"
      ]
     },
     "execution_count": 80,
     "metadata": {},
     "output_type": "execute_result"
    }
   ],
   "source": [
    "yp = rnd_grid.predict(X_test_predictions)\n",
    "m = tf.keras.metrics.AUC()\n",
    "m.update_state(y_test, yp)\n",
    "m.result().numpy()"
   ]
  },
  {
   "cell_type": "code",
   "execution_count": 82,
   "id": "fb62c807",
   "metadata": {},
   "outputs": [
    {
     "data": {
      "text/plain": [
       "0.9905473"
      ]
     },
     "execution_count": 82,
     "metadata": {},
     "output_type": "execute_result"
    }
   ],
   "source": [
    "yp = lg_grid.predict_proba(X_test)[:,1]\n",
    "m = tf.keras.metrics.AUC()\n",
    "m.update_state(y_test, yp)\n",
    "m.result().numpy()"
   ]
  },
  {
   "cell_type": "code",
   "execution_count": 84,
   "id": "7142544b",
   "metadata": {},
   "outputs": [
    {
     "data": {
      "text/plain": [
       "0.9922337"
      ]
     },
     "execution_count": 84,
     "metadata": {},
     "output_type": "execute_result"
    }
   ],
   "source": [
    "yp = keras_reg(X_test.values)\n",
    "m = tf.keras.metrics.AUC()\n",
    "m.update_state(y_test, yp)\n",
    "m.result().numpy()"
   ]
  }
 ],
 "metadata": {
  "kernelspec": {
   "display_name": "tensorflow2_2",
   "language": "python",
   "name": "tensorflow2_2"
  },
  "language_info": {
   "codemirror_mode": {
    "name": "ipython",
    "version": 3
   },
   "file_extension": ".py",
   "mimetype": "text/x-python",
   "name": "python",
   "nbconvert_exporter": "python",
   "pygments_lexer": "ipython3",
   "version": "3.7.4"
  }
 },
 "nbformat": 4,
 "nbformat_minor": 5
}
